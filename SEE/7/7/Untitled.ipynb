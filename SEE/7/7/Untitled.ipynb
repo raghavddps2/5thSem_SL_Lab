{
 "cells": [
  {
   "cell_type": "code",
   "execution_count": 1,
   "metadata": {},
   "outputs": [],
   "source": [
    "import pandas as pd\n",
    "from pandas import Series,DataFrame\n",
    "import numpy as np\n",
    "import matplotlib.pyplot as plt\n",
    "import seaborn as sns\n",
    "iris_df=pd.read_csv('iris.csv')\n",
    "print('---DataFrame---')\n",
    "print(iris_df)\n",
    "print('---info---')\n",
    "iris_df.info()\n",
    "print('---Functions---')\n",
    "print(iris_df[['Class',' Petal_Width']].groupby(['Class'],as_index=True).mean())\n",
    "\n",
    "ax=sns.countplot(x=\" Sepal_Width\", hue=\"Class\",data=iris_df, palette=\"Set1\")\n",
    "ax.set(title=\"Categorization of flowers based on sepal width\", xlabel=\"Categories\",ylabel=\"Total\")\n",
    "plt.show()\n"
   ]
  },
  {
   "cell_type": "code",
   "execution_count": 3,
   "metadata": {
    "scrolled": true
   },
   "outputs": [
    {
     "data": {
      "text/html": [
       "<div>\n",
       "<style scoped>\n",
       "    .dataframe tbody tr th:only-of-type {\n",
       "        vertical-align: middle;\n",
       "    }\n",
       "\n",
       "    .dataframe tbody tr th {\n",
       "        vertical-align: top;\n",
       "    }\n",
       "\n",
       "    .dataframe thead th {\n",
       "        text-align: right;\n",
       "    }\n",
       "</style>\n",
       "<table border=\"1\" class=\"dataframe\">\n",
       "  <thead>\n",
       "    <tr style=\"text-align: right;\">\n",
       "      <th></th>\n",
       "      <th>Sepal_Length</th>\n",
       "      <th>Sepal_Width</th>\n",
       "      <th>Petal_Length</th>\n",
       "      <th>Petal_Width</th>\n",
       "      <th>Class</th>\n",
       "    </tr>\n",
       "  </thead>\n",
       "  <tbody>\n",
       "    <tr>\n",
       "      <th>0</th>\n",
       "      <td>5.1</td>\n",
       "      <td>3.5</td>\n",
       "      <td>1.4</td>\n",
       "      <td>0.2</td>\n",
       "      <td>Iris-setosa</td>\n",
       "    </tr>\n",
       "    <tr>\n",
       "      <th>1</th>\n",
       "      <td>4.9</td>\n",
       "      <td>3.0</td>\n",
       "      <td>1.4</td>\n",
       "      <td>0.2</td>\n",
       "      <td>Iris-setosa</td>\n",
       "    </tr>\n",
       "    <tr>\n",
       "      <th>2</th>\n",
       "      <td>4.7</td>\n",
       "      <td>3.2</td>\n",
       "      <td>1.3</td>\n",
       "      <td>0.2</td>\n",
       "      <td>Iris-setosa</td>\n",
       "    </tr>\n",
       "    <tr>\n",
       "      <th>3</th>\n",
       "      <td>4.6</td>\n",
       "      <td>3.1</td>\n",
       "      <td>1.5</td>\n",
       "      <td>0.2</td>\n",
       "      <td>Iris-setosa</td>\n",
       "    </tr>\n",
       "    <tr>\n",
       "      <th>4</th>\n",
       "      <td>5.0</td>\n",
       "      <td>3.6</td>\n",
       "      <td>1.4</td>\n",
       "      <td>0.2</td>\n",
       "      <td>Iris-setosa</td>\n",
       "    </tr>\n",
       "  </tbody>\n",
       "</table>\n",
       "</div>"
      ],
      "text/plain": [
       "   Sepal_Length   Sepal_Width   Petal_Length   Petal_Width        Class\n",
       "0           5.1           3.5            1.4           0.2  Iris-setosa\n",
       "1           4.9           3.0            1.4           0.2  Iris-setosa\n",
       "2           4.7           3.2            1.3           0.2  Iris-setosa\n",
       "3           4.6           3.1            1.5           0.2  Iris-setosa\n",
       "4           5.0           3.6            1.4           0.2  Iris-setosa"
      ]
     },
     "execution_count": 3,
     "metadata": {},
     "output_type": "execute_result"
    }
   ],
   "source": [
    "iris_df.head()"
   ]
  },
  {
   "cell_type": "code",
   "execution_count": 6,
   "metadata": {},
   "outputs": [
    {
     "data": {
      "text/plain": [
       "Index(['Sepal_Length', ' Sepal_Width', ' Petal_Length', ' Petal_Width',\n",
       "       'Class'],\n",
       "      dtype='object')"
      ]
     },
     "execution_count": 6,
     "metadata": {},
     "output_type": "execute_result"
    }
   ],
   "source": [
    "iris_df.columns"
   ]
  },
  {
   "cell_type": "code",
   "execution_count": 9,
   "metadata": {},
   "outputs": [
    {
     "name": "stdout",
     "output_type": "stream",
     "text": [
      "---DataFrame---\n",
      "     Sepal_Length   Sepal_Width   Petal_Length   Petal_Width           Class\n",
      "0             5.1           3.5            1.4           0.2     Iris-setosa\n",
      "1             4.9           3.0            1.4           0.2     Iris-setosa\n",
      "2             4.7           3.2            1.3           0.2     Iris-setosa\n",
      "3             4.6           3.1            1.5           0.2     Iris-setosa\n",
      "4             5.0           3.6            1.4           0.2     Iris-setosa\n",
      "5             5.4           3.9            1.7           0.4     Iris-setosa\n",
      "6             4.6           3.4            1.4           0.3     Iris-setosa\n",
      "7             5.0           3.4            1.5           0.2     Iris-setosa\n",
      "8             4.4           2.9            1.4           0.2     Iris-setosa\n",
      "9             4.9           3.1            1.5           0.1     Iris-setosa\n",
      "10            5.4           3.7            1.5           0.2     Iris-setosa\n",
      "11            4.8           3.4            1.6           0.2     Iris-setosa\n",
      "12            4.8           3.0            1.4           0.1     Iris-setosa\n",
      "13            4.3           3.0            1.1           0.1     Iris-setosa\n",
      "14            5.8           4.0            1.2           0.2     Iris-setosa\n",
      "15            5.7           4.4            1.5           0.4     Iris-setosa\n",
      "16            5.4           3.9            1.3           0.4     Iris-setosa\n",
      "17            5.1           3.5            1.4           0.3     Iris-setosa\n",
      "18            5.7           3.8            1.7           0.3     Iris-setosa\n",
      "19            5.1           3.8            1.5           0.3     Iris-setosa\n",
      "20            5.4           3.4            1.7           0.2     Iris-setosa\n",
      "21            5.1           3.7            1.5           0.4     Iris-setosa\n",
      "22            4.6           3.6            1.0           0.2     Iris-setosa\n",
      "23            5.1           3.3            1.7           0.5     Iris-setosa\n",
      "24            4.8           3.4            1.9           0.2     Iris-setosa\n",
      "25            5.0           3.0            1.6           0.2     Iris-setosa\n",
      "26            5.0           3.4            1.6           0.4     Iris-setosa\n",
      "27            5.2           3.5            1.5           0.2     Iris-setosa\n",
      "28            5.2           3.4            1.4           0.2     Iris-setosa\n",
      "29            4.7           3.2            1.6           0.2     Iris-setosa\n",
      "..            ...           ...            ...           ...             ...\n",
      "120           6.9           3.2            5.7           2.3  Iris-virginica\n",
      "121           5.6           2.8            4.9           2.0  Iris-virginica\n",
      "122           7.7           2.8            6.7           2.0  Iris-virginica\n",
      "123           6.3           2.7            4.9           1.8  Iris-virginica\n",
      "124           6.7           3.3            5.7           2.1  Iris-virginica\n",
      "125           7.2           3.2            6.0           1.8  Iris-virginica\n",
      "126           6.2           2.8            4.8           1.8  Iris-virginica\n",
      "127           6.1           3.0            4.9           1.8  Iris-virginica\n",
      "128           6.4           2.8            5.6           2.1  Iris-virginica\n",
      "129           7.2           3.0            5.8           1.6  Iris-virginica\n",
      "130           7.4           2.8            6.1           1.9  Iris-virginica\n",
      "131           7.9           3.8            6.4           2.0  Iris-virginica\n",
      "132           6.4           2.8            5.6           2.2  Iris-virginica\n",
      "133           6.3           2.8            5.1           1.5  Iris-virginica\n",
      "134           6.1           2.6            5.6           1.4  Iris-virginica\n",
      "135           7.7           3.0            6.1           2.3  Iris-virginica\n",
      "136           6.3           3.4            5.6           2.4  Iris-virginica\n",
      "137           6.4           3.1            5.5           1.8  Iris-virginica\n",
      "138           6.0           3.0            4.8           1.8  Iris-virginica\n",
      "139           6.9           3.1            5.4           2.1  Iris-virginica\n",
      "140           6.7           3.1            5.6           2.4  Iris-virginica\n",
      "141           6.9           3.1            5.1           2.3  Iris-virginica\n",
      "142           5.8           2.7            5.1           1.9  Iris-virginica\n",
      "143           6.8           3.2            5.9           2.3  Iris-virginica\n",
      "144           6.7           3.3            5.7           2.5  Iris-virginica\n",
      "145           6.7           3.0            5.2           2.3  Iris-virginica\n",
      "146           6.3           2.5            5.0           1.9  Iris-virginica\n",
      "147           6.5           3.0            5.2           2.0  Iris-virginica\n",
      "148           6.2           3.4            5.4           2.3  Iris-virginica\n",
      "149           5.9           3.0            5.1           1.8  Iris-virginica\n",
      "\n",
      "[150 rows x 5 columns]\n",
      "---info---\n",
      "<class 'pandas.core.frame.DataFrame'>\n",
      "RangeIndex: 150 entries, 0 to 149\n",
      "Data columns (total 5 columns):\n",
      "Sepal_Length     150 non-null float64\n",
      " Sepal_Width     150 non-null float64\n",
      " Petal_Length    150 non-null float64\n",
      " Petal_Width     150 non-null float64\n",
      "Class            150 non-null object\n",
      "dtypes: float64(4), object(1)\n",
      "memory usage: 5.9+ KB\n",
      "---Functions---\n",
      "                  Petal_Width\n",
      "Class                        \n",
      "Iris-setosa             0.244\n",
      "Iris-versicolor         1.326\n",
      "Iris-virginica          2.026\n"
     ]
    },
    {
     "data": {
      "image/png": "[encoded data removed]",
      "text/plain": [
       "<Figure size 432x288 with 1 Axes>"
      ]
     },
     "metadata": {
      "needs_background": "light"
     },
     "output_type": "display_data"
    }
   ],
   "source": [
    "print('---DataFrame---')\n",
    "print(iris_df)\n",
    "print('---info---')\n",
    "iris_df.info()\n",
    "print('---Functions---')\n",
    "print(iris_df[['Class',' Petal_Width']].groupby(['Class'],as_index=True).mean())\n",
    "\n",
    "ax=sns.countplot(x=\" Sepal_Width\", hue=\"Class\",data=iris_df, palette=\"Set1\")\n",
    "ax.set(title=\"Categorization of flowers based on sepal width\", xlabel=\"Categories\",ylabel=\"Total\")\n",
    "plt.show()\n"
   ]
  }
 ],
 "metadata": {
  "kernelspec": {
   "display_name": "Python 3",
   "language": "python",
   "name": "python3"
  },
  "language_info": {
   "codemirror_mode": {
    "name": "ipython",
    "version": 3
   },
   "file_extension": ".py",
   "mimetype": "text/x-python",
   "name": "python",
   "nbconvert_exporter": "python",
   "pygments_lexer": "ipython3",
   "version": "3.7.3"
  }
 },
 "nbformat": 4,
 "nbformat_minor": 2
}
